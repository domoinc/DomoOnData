{
 "cells": [
  {
   "cell_type": "code",
   "execution_count": 55,
   "id": "74557903-c092-4dca-80c1-82b6b94bb5b0",
   "metadata": {},
   "outputs": [],
   "source": [
    "import billboard\n",
    "import pandas as pd\n",
    "import domojupyter as domo\n",
    "\n",
    "#Documentation of the billboard.py package https://github.com/guoguo12/billboard-charts\n",
    "#must run in command line once: pip install billboard.py\n",
    "\n",
    "from datetime import date\n",
    "\n",
    "today = date.today()\n",
    "\n",
    "datelist=pd.date_range(end=today, periods=3, freq='W')\n",
    "#datelist=pd.date_range(end='1982-10-30', periods=100, freq='W')\n",
    "\n",
    "headers = ['rank','song','artist','image','peakPos','lastPos','weeks','isNew','chartname','chartdate']\n",
    "song_data = []\n",
    "\n",
    "for chartdate in datelist: \n",
    "    \n",
    "    cleanchartdate=pd.to_datetime(chartdate)\n",
    "    \n",
    "    datetouse= (cleanchartdate.date())\n",
    "    \n",
    "    #dateasstring=datetouse.astype(str) \n",
    "    \n",
    "    chart = billboard.ChartData('hot-100', datetouse )# chartdate)\n",
    "\n",
    "    for songrank in range(100):\n",
    "\n",
    "        song=chart[int(songrank)]\n",
    "\n",
    "        # don't want to create lists here\n",
    "        # removing the [] should solve the issue\n",
    "        \n",
    "        bendata=[song.rank,song.title,song.artist,song.image,song.peakPos,song.lastPos,song.weeks,song.isNew,chart.title,chart.date]\n",
    "        \n",
    "        song_data.append(bendata)\n",
    "\n",
    "df = pd.DataFrame(song_data, columns=headers)    \n",
    "\n",
    "  \n",
    "domo.write_dataframe (df,'BillboardCharts_History')\n",
    "\n"
   ]
  },
  {
   "cell_type": "code",
   "execution_count": null,
   "id": "d0bd9c66-896a-41f5-9488-b39b73deec53",
   "metadata": {},
   "outputs": [],
   "source": []
  },
  {
   "cell_type": "code",
   "execution_count": null,
   "id": "4bfe80ca-0091-40cc-9ae5-d1a45006a346",
   "metadata": {},
   "outputs": [],
   "source": []
  }
 ],
 "metadata": {
  "domo": {
   "notebook_id": "6d89e772-cd33-4c6b-8fd3-aa3807de9981"
  },
  "kernelspec": {
   "display_name": "Python 3.9",
   "language": "python",
   "name": "python_3_9"
  },
  "language_info": {
   "codemirror_mode": {
    "name": "ipython",
    "version": 3
   },
   "file_extension": ".py",
   "mimetype": "text/x-python",
   "name": "python",
   "nbconvert_exporter": "python",
   "pygments_lexer": "ipython3",
   "version": "3.9.12"
  }
 },
 "nbformat": 4,
 "nbformat_minor": 5
}
